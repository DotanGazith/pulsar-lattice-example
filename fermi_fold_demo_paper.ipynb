{
 "cells": [
  {
   "cell_type": "markdown",
   "metadata": {},
   "source": [
    "# Folding 4FGL J0318.2+0254 using Lattice Algorithms"
   ]
  },
  {
   "cell_type": "markdown",
   "metadata": {},
   "source": [
    "## 1. Initializations\n",
    "\n",
    "Imports"
   ]
  },
  {
   "cell_type": "code",
   "execution_count": 36,
   "metadata": {},
   "outputs": [],
   "source": [
    "import numpy as np\n",
    "import matplotlib.pyplot as plt\n",
    "\n",
    "import fpylll\n",
    "from g6k import Siever"
   ]
  },
  {
   "cell_type": "markdown",
   "metadata": {},
   "source": [
    "## 2. Load the data\n",
    "\n",
    "Here we load the a dictionary containing all the data we will need."
   ]
  },
  {
   "cell_type": "code",
   "execution_count": 37,
   "metadata": {},
   "outputs": [],
   "source": [
    "data_needed = np.load('data/data,npy',\n",
    "                      allow_pickle=True).tolist()"
   ]
  },
  {
   "cell_type": "markdown",
   "metadata": {},
   "source": [
    "Data is orginised as follows:\n",
    "\n",
    "1. *toas_met_lattice* : the times of arrival (TOAs) in Fermi mission elapsed time (met), for the lattice.\n",
    "2. *toas_location_lattice* : Fermi's location w.r.t the solar system barycenter, a location per TOA.\n",
    "3. *span_vecs* : the timing vectors used (similar to $\\vec{t}$, $\\frac{1}{2}\\vec{t}^2$, etc.).\n",
    "4. *coeff_std* : the extent of the (orthonormalized) timing vectors coefficients to search for.\n",
    "5. *lattice* : the lattice's basis, in its natural form.\n",
    "6. *integer_lattice* : the lattice's basis, rescaled and rounded.\n",
    "7. *mul_factor* : the lattice's scaling factor.\n",
    "8. *expected_sigma* : the expected length of the shortest vector in the lattice, according to the Gaussian heuristic.\n",
    "9. *toas_met_verify* : the times of arrival (TOAs) in Fermi mission elapsed time (met), for the verification step.\n",
    "10. *toas_location_verify* : Fermi's location w.r.t the solar system barycenter, a location per verification TOA.\n",
    "11. *probs_verify* : the verification TOA's association probabilities.\n",
    "12. *transformation_matrix* : inverse of the orthogonalization transformation of *span_vecs*, used to fold the verification TOAs according to the solutions on the lattice TOAs."
   ]
  },
  {
   "cell_type": "code",
   "execution_count": 38,
   "metadata": {},
   "outputs": [],
   "source": [
    "integer_lattice         = data_needed['integer_lattice']\n",
    "coeff_std               = data_needed['coeff_std']\n",
    "toas_met_lattice        = data_needed['toas_met_lattice']\n",
    "transformation_matrix   = data_needed['transformation_matrix']\n",
    "mul_factor              = data_needed['mul_factor']\n",
    "probs_verify            = data_needed['probs_verify']"
   ]
  },
  {
   "cell_type": "markdown",
   "metadata": {},
   "source": [
    "## 3. Executing the lattice algorithm\n",
    "\n",
    "First, we set up the lattice in the fpylll's library format."
   ]
  },
  {
   "cell_type": "code",
   "execution_count": 39,
   "metadata": {},
   "outputs": [],
   "source": [
    "integer_matrix = fpylll.IntegerMatrix.from_iterable(*integer_lattice.shape,\n",
    "                                                    list(map(int, list(integer_lattice.flatten()))))\n",
    "gso = fpylll.GSO.Mat(integer_matrix, flags=fpylll.GSO.INT_GRAM,\n",
    "                     U=fpylll.IntegerMatrix.identity(integer_matrix.nrows),\n",
    "                     UinvT=fpylll.IntegerMatrix.identity(integer_matrix.nrows))"
   ]
  },
  {
   "cell_type": "markdown",
   "metadata": {},
   "source": [
    "Second, we reduce the lattice using a BKZ(30) lattice reduction algorithm.\n",
    "\n",
    "The lattice reduction results in a more balanced basis for the lattice (basis vectors are closer in length), which is easier to use for enumeration or sieving."
   ]
  },
  {
   "cell_type": "code",
   "execution_count": null,
   "metadata": {},
   "outputs": [
    {
     "data": {
      "text/plain": [
       "True"
      ]
     },
     "execution_count": 40,
     "metadata": {},
     "output_type": "execute_result"
    }
   ],
   "source": [
    "bkz = fpylll.BKZ.Reduction(gso, fpylll.LLL.Reduction(gso, delta=0.95),\n",
    "                           fpylll.BKZ.Param(block_size=30, strategies=fpylll.BKZ.DEFAULT_STRATEGY, delta=0.95))\n",
    "_   = bkz()"
   ]
  },
  {
   "cell_type": "markdown",
   "metadata": {},
   "source": [
    "Third, we sieve succesively on larger and larger sublattices (this operation is called *pump* in G6K).\n",
    "\n",
    "This step results in many short vectors in the lattice, some of them might be our sought after solution."
   ]
  },
  {
   "cell_type": "code",
   "execution_count": 41,
   "metadata": {},
   "outputs": [
    {
     "name": "stderr",
     "output_type": "stream",
     "text": [
      "Warning: Triple sieve exceeded maximum number of resorts\n",
      "Warning: Saturation condition could not be reached during triplesieve.\n"
     ]
    }
   ],
   "source": [
    "g6k = Siever(gso)\n",
    "g6k.initialize_local(0, integer_lattice.shape[0]//2, integer_lattice.shape[0])\n",
    "with g6k.temp_params(otf_lift=False):\n",
    "    while g6k.l > len(coeff_std):\n",
    "        g6k.extend_left(1)\n",
    "        g6k(alg='hk3')\n",
    "    g6k.extend_left(len(coeff_std))"
   ]
  },
  {
   "cell_type": "markdown",
   "metadata": {},
   "source": [
    "Lastly, we read the sieve results and save them in various formats:\n",
    "1. *raw* : are the coefficients of the reduced basis.\n",
    "2. *transformation* : are the coefficients of the original basis (split to $\\vec{k}$ and the timing parameters).\n",
    "3. *vectors* : are the folds."
   ]
  },
  {
   "cell_type": "code",
   "execution_count": 42,
   "metadata": {},
   "outputs": [],
   "source": [
    "db_raw = np.array(list(g6k.itervalues()))\n",
    "db_transformation = db_raw @ np.array(list(g6k.M.U))\n",
    "db_transformation_k = db_transformation[:, :len(toas_met_lattice)]\n",
    "db_transformation_p = db_transformation[:, len(toas_met_lattice):]\n",
    "db_vectors = db_raw @ np.array(list(g6k.M.B))"
   ]
  },
  {
   "cell_type": "markdown",
   "metadata": {},
   "source": [
    "## 4. Verification\n",
    "\n",
    "Folding the verification TOA's according to the sieving results and calculation the Q statistic"
   ]
  },
  {
   "cell_type": "code",
   "execution_count": 43,
   "metadata": {},
   "outputs": [],
   "source": [
    "verify_fold = np.mod(db_transformation_p @ transformation_matrix / mul_factor + 0.5, 1) - 0.5\n",
    "Q_stat_normalization = np.sum(probs_verify ** 2 / 2)\n",
    "Q_stat = np.abs(np.sum(probs_verify * np.exp(1j * 2*np.pi * verify_fold), axis=1)) ** 2 / Q_stat_normalization"
   ]
  },
  {
   "cell_type": "markdown",
   "metadata": {},
   "source": [
    "Filtering out unphysical solutions, that don't make a significant number of phase revolutions"
   ]
  },
  {
   "cell_type": "code",
   "execution_count": 44,
   "metadata": {},
   "outputs": [],
   "source": [
    "reasnable_solutions_mask = np.std(db_transformation_k, axis=1) > 1e5"
   ]
  },
  {
   "cell_type": "markdown",
   "metadata": {},
   "source": [
    "Plotting the Q statistic histogram.\n",
    "\n",
    "We can clearly see the population of null solutions and the population of true solutions."
   ]
  },
  {
   "cell_type": "code",
   "execution_count": 46,
   "metadata": {},
   "outputs": [
    {
     "data": {
      "image/png": "[encoded data removed]",
      "text/plain": [
       "<Figure size 640x480 with 1 Axes>"
      ]
     },
     "metadata": {},
     "output_type": "display_data"
    }
   ],
   "source": [
    "bins = np.logspace(np.log10(min(Q_stat[reasnable_solutions_mask])), \n",
    "                   np.log10(max(Q_stat[reasnable_solutions_mask])), 100)\n",
    "plt.hist(Q_stat[reasnable_solutions_mask], bins=bins)\n",
    "plt.xscale('log')\n",
    "plt.yscale('log')\n",
    "plt.show()"
   ]
  },
  {
   "cell_type": "markdown",
   "metadata": {},
   "source": [
    "Looking at the fold of one of the detections we can clearly see the pulse."
   ]
  },
  {
   "cell_type": "code",
   "execution_count": null,
   "metadata": {},
   "outputs": [
    {
     "data": {
      "image/png": "[encoded data removed]",
      "text/plain": [
       "<Figure size 640x480 with 1 Axes>"
      ]
     },
     "metadata": {},
     "output_type": "display_data"
    }
   ],
   "source": [
    "plt.hist(verify_fold[reasnable_solutions_mask][np.argmax(Q_stat[reasnable_solutions_mask])], \n",
    "         bins=np.linspace(-0.5, 0.5, 50))\n",
    "plt.xlabel(r'$\\Phi$')\n",
    "plt.ylabel('Weighted Counts')\n",
    "plt.title('Folded Phase Distribution')\n",
    "plt.show()"
   ]
  },
  {
   "cell_type": "code",
   "execution_count": null,
   "metadata": {},
   "outputs": [],
   "source": []
  }
 ],
 "metadata": {
  "kernelspec": {
   "display_name": "lattice",
   "language": "python",
   "name": "python3"
  },
  "language_info": {
   "codemirror_mode": {
    "name": "ipython",
    "version": 3
   },
   "file_extension": ".py",
   "mimetype": "text/x-python",
   "name": "python",
   "nbconvert_exporter": "python",
   "pygments_lexer": "ipython3",
   "version": "3.11.5"
  },
  "orig_nbformat": 4,
  "vscode": {
   "interpreter": {
    "hash": "20731d1bed9a6fb1354e190fe6180aed703310d0d898f96d114629d6af69e734"
   }
  }
 },
 "nbformat": 4,
 "nbformat_minor": 2
}
